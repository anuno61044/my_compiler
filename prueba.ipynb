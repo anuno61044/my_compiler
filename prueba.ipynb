{
 "cells": [
  {
   "cell_type": "code",
   "execution_count": 2,
   "metadata": {},
   "outputs": [
    {
     "name": "stdout",
     "output_type": "stream",
     "text": [
      "(0, hola, 2)\n"
     ]
    },
    {
     "ename": "AttributeError",
     "evalue": "'list' object has no attribute 'final'",
     "output_type": "error",
     "traceback": [
      "\u001b[1;31m---------------------------------------------------------------------------\u001b[0m",
      "\u001b[1;31mAttributeError\u001b[0m                            Traceback (most recent call last)",
      "Cell \u001b[1;32mIn[2], line 20\u001b[0m\n\u001b[0;32m     18\u001b[0m \u001b[38;5;28;01mfor\u001b[39;00m w \u001b[38;5;129;01min\u001b[39;00m text:\n\u001b[0;32m     19\u001b[0m     autom1 \u001b[38;5;241m=\u001b[39m autom1[w]\n\u001b[1;32m---> 20\u001b[0m     \u001b[38;5;28mprint\u001b[39m(autom1, \u001b[43mautom1\u001b[49m\u001b[38;5;241;43m.\u001b[39;49m\u001b[43mfinal\u001b[49m)\n",
      "\u001b[1;31mAttributeError\u001b[0m: 'list' object has no attribute 'final'"
     ]
    }
   ],
   "source": [
    "from cmp.automata import State\n",
    "from cmp.tools.regex import Regex\n",
    "\n",
    "# Tengo dos tipos de tokens a reconocer\n",
    "#   1. Caracteres numericos\n",
    "nonzero_digits = '|'.join(str(n) for n in range(1,10))\n",
    "#   2. El for de toda la vida\n",
    "for_regex = 'for'\n",
    "\n",
    "# Creo los autómatas que los reconocen\n",
    "# Que según lo que entendi en la cp eran estados\n",
    "a = State.from_nfa(Regex(f'({nonzero_digits})(0|{nonzero_digits})*').automaton)\n",
    "c = State.from_nfa(Regex(for_regex).automaton)\n",
    "\n",
    "# Luego creo otro estado y le añado epsilon transiciones\n",
    "# a cada autómata que creé, para tener el autómata de ese lexer\n",
    "autom = State('hola')\n",
    "autom.add_epsilon_transition(a)\n",
    "autom.add_epsilon_transition(c)\n",
    "\n",
    "# Lo convierto a determinista\n",
    "autom1 = autom.to_deterministic()\n",
    "\n",
    "text = '123132'\n",
    "print(autom1)\n",
    "\n",
    "# Recorro los estados que me llevan a reconocer la cadena\n",
    "for w in text:\n",
    "    autom1 = autom1[w]\n",
    "    print(autom1, autom1.final)"
   ]
  }
 ],
 "metadata": {
  "kernelspec": {
   "display_name": "Python 3",
   "language": "python",
   "name": "python3"
  },
  "language_info": {
   "codemirror_mode": {
    "name": "ipython",
    "version": 3
   },
   "file_extension": ".py",
   "mimetype": "text/x-python",
   "name": "python",
   "nbconvert_exporter": "python",
   "pygments_lexer": "ipython3",
   "version": "3.12.4"
  }
 },
 "nbformat": 4,
 "nbformat_minor": 2
}
