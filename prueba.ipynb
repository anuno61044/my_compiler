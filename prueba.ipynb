{
 "cells": [
  {
   "cell_type": "code",
   "execution_count": 1,
   "metadata": {},
   "outputs": [],
   "source": [
    "from cmp.pycompiler import *\n",
    "from TreeDef import *"
   ]
  },
  {
   "cell_type": "code",
   "execution_count": null,
   "metadata": {},
   "outputs": [],
   "source": [
    "\n",
    "# G = Grammar()\n",
    "\n",
    "# # No terminales\n",
    "# E = G.NonTerminal('E', True)\n",
    "# A,T,F = G.NonTerminals('A T F')\n",
    "\n",
    "# # Terminales\n",
    "# equal, plus, times, num, lpar, rpar = G.Terminals('= + * float ( )')\n",
    "\n",
    "# # Reglas\n",
    "# E %= A, lambda h,s : s[1]\n",
    "\n",
    "# A %=  A + plus + T, lambda h,s: PlusNode(s[1],s[3])\n",
    "# A %= T, lambda h,s : s[1]\n",
    "\n",
    "# T %= T + times + F, lambda h,s: StarNode(s[1],s[3])\n",
    "# T %= F, lambda h,s : s[1]\n",
    "\n",
    "# F %= num, lambda h,s : ConstantNumberNode(s[1])\n",
    "# F %= lpar + A + rpar, lambda h,s : s[2]\n"
   ]
  },
  {
   "cell_type": "code",
   "execution_count": 3,
   "metadata": {},
   "outputs": [],
   "source": [
    "\n",
    "G1 = Grammar()\n",
    "\n",
    "# No terminales\n",
    "E = G1.NonTerminal('E', True)\n",
    "T,F = G1.NonTerminals('T F')\n",
    "\n",
    "# Terminales\n",
    "equal, plus, times, num, lpar, rpar = G1.Terminals('= + * float ( )')\n",
    "\n",
    "# Reglas\n",
    "# E %= A, lambda h,s : s[1]\n",
    "\n",
    "E %=  E + plus + T, lambda h,s: PlusNode(s[1],s[3])\n",
    "E %= T, lambda h,s : s[1]\n",
    "\n",
    "T %= T + times + F, lambda h,s: StarNode(s[1],s[3])\n",
    "T %= F, lambda h,s : s[1]\n",
    "\n",
    "F %= num, lambda h,s : ConstantNumberNode(s[1])\n",
    "F %= lpar + E + rpar, lambda h,s : s[2]\n"
   ]
  },
  {
   "cell_type": "code",
   "execution_count": 4,
   "metadata": {},
   "outputs": [
    {
     "name": "stdout",
     "output_type": "stream",
     "text": [
      "item: E -> .E+T, {'$', '+'}\n"
     ]
    }
   ],
   "source": [
    "from cmp.pycompiler import Item\n",
    "\n",
    "item = Item(E.productions[0], 0, lookaheads=[G1.EOF, plus])\n",
    "print('item:', item)"
   ]
  },
  {
   "cell_type": "code",
   "execution_count": 5,
   "metadata": {},
   "outputs": [],
   "source": [
    "\n",
    "from cmp.utils import ContainerSet\n",
    "from cmath import e\n",
    "\n",
    "\n",
    "def compute_local_first(firsts, alpha):\n",
    "    first_alpha = ContainerSet()\n",
    "    \n",
    "    try:\n",
    "        alpha_is_epsilon = alpha.IsEpsilon\n",
    "    except:\n",
    "        alpha_is_epsilon = False\n",
    "    \n",
    "    ###################################################\n",
    "    # alpha == epsilon ? First(alpha) = { epsilon }\n",
    "    ###################################################\n",
    "    if(alpha_is_epsilon):\n",
    "        first_alpha.set_epsilon(True)\n",
    "        return first_alpha\n",
    "    ###################################################\n",
    "    \n",
    "    ###################################################\n",
    "    # alpha = X1 ... XN\n",
    "    # First(Xi) subconjunto First(alpha)\n",
    "    # epsilon pertenece a First(X1)...First(Xi) ? First(Xi+1) subconjunto de First(X) y First(alpha)\n",
    "    # epsilon pertenece a First(X1)...First(XN) ? epsilon pertence a First(X) y al First(alpha)\n",
    "    ###################################################\n",
    "    for symbol in alpha:\n",
    "        first_symbol = firsts[symbol]\n",
    "        first_alpha.update(first_symbol)\n",
    "        if(not first_symbol.contains_epsilon):\n",
    "            break\n",
    "            \n",
    "    ###################################################\n",
    "    \n",
    "    # First(alpha)\n",
    "    return first_alpha\n",
    "\n",
    "def compute_firsts(G):\n",
    "    firsts = {}\n",
    "    change = True\n",
    "    \n",
    "    # init First(Vt)\n",
    "    # Each terminal has a First set with only itself\n",
    "    for terminal in G.terminals:\n",
    "        firsts[terminal] = ContainerSet(terminal)\n",
    "    \n",
    "    # init First(Vn)\n",
    "    # Each non-terminal is initialized with an empty set\n",
    "    for nonterminal in G.nonTerminals:\n",
    "        firsts[nonterminal] = ContainerSet()\n",
    "    \n",
    "    while change:\n",
    "        change = False\n",
    "        \n",
    "        # P: X -> alpha\n",
    "        for production in G.Productions:\n",
    "            X = production.Left\n",
    "            alpha = production.Right\n",
    "            \n",
    "            # get current First(X)\n",
    "            first_X = firsts[X]\n",
    "                \n",
    "            # init First(alpha)\n",
    "            try:\n",
    "                first_alpha = firsts[alpha]\n",
    "            except KeyError:\n",
    "                first_alpha = firsts[alpha] = ContainerSet()\n",
    "            \n",
    "            # CurrentFirst(alpha)???\n",
    "            local_first = compute_local_first(firsts, alpha)\n",
    "            # update First(X) and First(alpha) from CurrentFirst(alpha)\n",
    "            change |= first_alpha.hard_update(local_first)\n",
    "            change |= first_X.hard_update(local_first)\n",
    "                    \n",
    "    # First(Vt) + First(Vt) + First(RightSides)\n",
    "    return firsts\n"
   ]
  },
  {
   "cell_type": "code",
   "execution_count": 6,
   "metadata": {},
   "outputs": [],
   "source": [
    "firsts = compute_firsts(G1)\n",
    "firsts[G1.EOF] = ContainerSet(G1.EOF)"
   ]
  },
  {
   "cell_type": "code",
   "execution_count": 7,
   "metadata": {},
   "outputs": [
    {
     "data": {
      "text/plain": [
       "{'=': {'='}-False,\n",
       " '+': {'+'}-False,\n",
       " '*': {'*'}-False,\n",
       " 'float': {'float'}-False,\n",
       " '(': {'('}-False,\n",
       " ')': {')'}-False,\n",
       " 'E': {'(', 'float'}-False,\n",
       " 'T': {'(', 'float'}-False,\n",
       " 'F': {'(', 'float'}-False,\n",
       " E + T: {'(', 'float'}-False,\n",
       " T: {'(', 'float'}-False,\n",
       " T * F: {'(', 'float'}-False,\n",
       " F: {'(', 'float'}-False,\n",
       " float: {'float'}-False,\n",
       " ( E ): {'('}-False,\n",
       " '$': {'$'}-False}"
      ]
     },
     "execution_count": 7,
     "metadata": {},
     "output_type": "execute_result"
    }
   ],
   "source": [
    "firsts"
   ]
  }
 ],
 "metadata": {
  "kernelspec": {
   "display_name": "Python 3",
   "language": "python",
   "name": "python3"
  },
  "language_info": {
   "codemirror_mode": {
    "name": "ipython",
    "version": 3
   },
   "file_extension": ".py",
   "mimetype": "text/x-python",
   "name": "python",
   "nbconvert_exporter": "python",
   "pygments_lexer": "ipython3",
   "version": "3.12.3"
  }
 },
 "nbformat": 4,
 "nbformat_minor": 2
}
