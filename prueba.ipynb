{
 "cells": [
  {
   "cell_type": "code",
   "execution_count": 7,
   "metadata": {},
   "outputs": [
    {
     "data": {
      "image/png": "[encoded data removed]",
      "text/plain": [
       "<Figure size 640x480 with 1 Axes>"
      ]
     },
     "metadata": {},
     "output_type": "display_data"
    }
   ],
   "source": [
    "import matplotlib.pyplot as plt\n",
    "import networkx as nx\n",
    "\n",
    "# Define el autómata (ejemplo de AFD)\n",
    "G = nx.DiGraph()\n",
    "G.add_nodes_from(['q0', 'q1', 'q2'])\n",
    "G.add_edges_from([('q0', 'q0'), ('q0', 'q1'), ('q1', 'q2'), ('q2', 'q1')])\n",
    "\n",
    "# Etiquetas de las transiciones\n",
    "labels = {('q0', 'q0'): '0', ('q0', 'q1'): '1', ('q1', 'q2'): '0', ('q2', 'q1'): '1'}\n",
    "\n",
    "# Dibuja el autómata con etiquetas\n",
    "pos = nx.spring_layout(G, seed=42)\n",
    "nx.draw(G, pos, with_labels=True, node_size=1000, node_color='lightblue', font_size=10)\n",
    "nx.draw_networkx_edge_labels(G, pos, edge_labels=labels, font_size=8)\n",
    "\n",
    "plt.savefig(\"automata_con_transiciones.png\")\n",
    "plt.show()\n"
   ]
  },
  {
   "cell_type": "code",
   "execution_count": 4,
   "metadata": {},
   "outputs": [
    {
     "name": "stdout",
     "output_type": "stream",
     "text": [
      "(0, 2, hola)\n",
      "1\n"
     ]
    },
    {
     "ename": "AttributeError",
     "evalue": "'int' object has no attribute 'has_transition'",
     "output_type": "error",
     "traceback": [
      "\u001b[1;31m---------------------------------------------------------------------------\u001b[0m",
      "\u001b[1;31mAttributeError\u001b[0m                            Traceback (most recent call last)",
      "Cell \u001b[1;32mIn[4], line 32\u001b[0m\n\u001b[0;32m     30\u001b[0m     autom1 \u001b[38;5;241m=\u001b[39m State\u001b[38;5;241m.\u001b[39mmove_by_state(w,\u001b[38;5;241m*\u001b[39mautom1\u001b[38;5;241m.\u001b[39mstate)\n\u001b[0;32m     31\u001b[0m \u001b[38;5;28;01melse\u001b[39;00m:\n\u001b[1;32m---> 32\u001b[0m     autom1 \u001b[38;5;241m=\u001b[39m \u001b[43mState\u001b[49m\u001b[38;5;241;43m.\u001b[39;49m\u001b[43mmove_by_state\u001b[49m\u001b[43m(\u001b[49m\u001b[43mw\u001b[49m\u001b[43m,\u001b[49m\u001b[43mautom1\u001b[49m\u001b[38;5;241;43m.\u001b[39;49m\u001b[43mstate\u001b[49m\u001b[43m)\u001b[49m\n\u001b[0;32m     33\u001b[0m \u001b[38;5;28mprint\u001b[39m(autom1)\n",
      "File \u001b[1;32mc:\\Users\\Al\\Documents\\UH\\compilacion\\proyecto\\my_compiler\\cmp\\automata.py:101\u001b[0m, in \u001b[0;36mState.move_by_state\u001b[1;34m(symbol, *states)\u001b[0m\n\u001b[0;32m     99\u001b[0m \u001b[38;5;129m@staticmethod\u001b[39m\n\u001b[0;32m    100\u001b[0m \u001b[38;5;28;01mdef\u001b[39;00m \u001b[38;5;21mmove_by_state\u001b[39m(symbol, \u001b[38;5;241m*\u001b[39mstates):\n\u001b[1;32m--> 101\u001b[0m     a \u001b[38;5;241m=\u001b[39m { s \u001b[38;5;28;01mfor\u001b[39;00m state \u001b[38;5;129;01min\u001b[39;00m states \u001b[38;5;28;01mif\u001b[39;00m \u001b[43mstate\u001b[49m\u001b[38;5;241;43m.\u001b[39;49m\u001b[43mhas_transition\u001b[49m(symbol) \u001b[38;5;28;01mfor\u001b[39;00m s \u001b[38;5;129;01min\u001b[39;00m state[symbol]}\n\u001b[0;32m    102\u001b[0m     \u001b[38;5;28;01mif\u001b[39;00m \u001b[38;5;28mlen\u001b[39m(a) \u001b[38;5;241m==\u001b[39m \u001b[38;5;241m1\u001b[39m:\n\u001b[0;32m    103\u001b[0m         a \u001b[38;5;241m=\u001b[39m a\u001b[38;5;241m.\u001b[39mpop()\n",
      "\u001b[1;31mAttributeError\u001b[0m: 'int' object has no attribute 'has_transition'"
     ]
    }
   ],
   "source": [
    "from cmp.automata import State\n",
    "from cmp.tools.regex import Regex\n",
    "\n",
    "# Tengo dos tipos de tokens a reconocer\n",
    "#   1. Caracteres numericos\n",
    "nonzero_digits = '|'.join(str(n) for n in range(1,10))\n",
    "#   2. El for de toda la vida\n",
    "for_regex = 'for'\n",
    "\n",
    "# Creo los autómatas que los reconocen\n",
    "# Que según lo que entendi en la cp eran estados\n",
    "a = State.from_nfa(Regex(f'({nonzero_digits})(0|{nonzero_digits})*').automaton)\n",
    "c = State.from_nfa(Regex(for_regex).automaton)\n",
    "\n",
    "# Luego creo otro estado y le añado epsilon transiciones\n",
    "# a cada autómata que creé, para tener el autómata de ese lexer\n",
    "autom = State('hola')\n",
    "autom.add_epsilon_transition(a)\n",
    "autom.add_epsilon_transition(c)\n",
    "\n",
    "# Lo convierto a determinista\n",
    "autom1 = autom.to_deterministic()\n",
    "\n",
    "text = '123'\n",
    "print(autom1)\n",
    "\n",
    "# Recorro los estados que me llevan a reconocer la cadena\n",
    "for w in text:\n",
    "    if isinstance(autom1.state,tuple):\n",
    "        autom1 = State.move_by_state(w,*autom1.state)\n",
    "    else:\n",
    "        autom1 = State.move_by_state(w,autom1.state)\n",
    "    print(autom1)\n"
   ]
  },
  {
   "cell_type": "code",
   "execution_count": 6,
   "metadata": {},
   "outputs": [
    {
     "name": "stdout",
     "output_type": "stream",
     "text": [
      "False\n"
     ]
    }
   ],
   "source": [
    "arr = [1,2,3]\n",
    "\n",
    "print(39 in arr)"
   ]
  }
 ],
 "metadata": {
  "kernelspec": {
   "display_name": "Python 3",
   "language": "python",
   "name": "python3"
  },
  "language_info": {
   "codemirror_mode": {
    "name": "ipython",
    "version": 3
   },
   "file_extension": ".py",
   "mimetype": "text/x-python",
   "name": "python",
   "nbconvert_exporter": "python",
   "pygments_lexer": "ipython3",
   "version": "3.12.4"
  }
 },
 "nbformat": 4,
 "nbformat_minor": 2
}
